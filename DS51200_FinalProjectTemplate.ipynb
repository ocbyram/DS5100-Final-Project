{
 "cells": [
  {
   "cell_type": "markdown",
   "id": "45762487-d33f-486d-8e38-2cdea04e3528",
   "metadata": {},
   "source": [
    "# Final Project Report\n",
    "\n",
    "* Class: DS 5100\n",
    "* Student Name: Olivia Byram\n",
    "* Student Net ID: OCB3WV\n",
    "* This URL: a URL to the notebook source of this document"
   ]
  },
  {
   "cell_type": "markdown",
   "id": "acf756c1-ecaa-41dc-b6ca-d566eb94560b",
   "metadata": {},
   "source": [
    "# Instructions\n",
    "\n",
    "Follow the instructions in the Final Project isntructions notebook and put evidence of your work in this notebook.\n",
    "\n",
    "Total points for each subsection under **Deliverables** and **Scenarios** are given in parentheses.\n",
    "\n",
    "Breakdowns of points within subsections are specified within subsection instructions as bulleted lists.\n",
    "\n",
    "This project is worth **50 points**."
   ]
  },
  {
   "cell_type": "markdown",
   "id": "89dc7a32-f682-4402-8c1e-b6ccdb3e0e39",
   "metadata": {},
   "source": [
    "# Deliverables"
   ]
  },
  {
   "cell_type": "markdown",
   "id": "d32cb273-9a40-4909-a7ce-51f6e4958d3c",
   "metadata": {},
   "source": [
    "## The Monte Carlo Module (10)\n",
    "\n",
    "- URL included, appropriately named (1).\n",
    "- Includes all three specified classes (3).\n",
    "- Includes at least all 12 specified methods (6; .5 each)."
   ]
  },
  {
   "cell_type": "markdown",
   "id": "f5f3b070-de9e-4de9-bfae-8974d184aa28",
   "metadata": {},
   "source": [
    "Put the URL to your GitHub repo here.\n",
    "\n",
    "Repo URL: https://github.com/ocbyram/Monte-Carlo-Module"
   ]
  },
  {
   "cell_type": "markdown",
   "id": "162370fb-3729-4c85-b040-8c25b2c966d2",
   "metadata": {},
   "source": [
    "Paste a copyy of your module here.\n",
    "\n",
    "NOTE: Paste as text, not as code. Use triple backticks to wrap your code blocks."
   ]
  },
  {
   "cell_type": "markdown",
   "id": "6f1b60e9-5aef-4347-ac94-2a823a67875c",
   "metadata": {},
   "source": [
    "```\n",
    "import pandas as pd\n",
    "import numpy as np\n",
    "import random\n",
    "from collections import Counter\n",
    "\n",
    "class Die: \n",
    "    \n",
    "    def __init__(self,faces):\n",
    "        self.faces = faces\n",
    "        if not isinstance(self.faces, np.ndarray):\n",
    "            raise TypeError\n",
    "        if not (len(self.faces) == len(set(self.faces))) == True:\n",
    "            raise ValueError\n",
    "        for each in self.faces:\n",
    "            weight = 1.0\n",
    "            self.weight = weight\n",
    "        self.df = pd.DataFrame({'Weight':weight},index=faces)\n",
    "            \n",
    "    def change_weight(self,face_val, new_weight):\n",
    "        if face_val not in self.df.index:\n",
    "            raise IndexError\n",
    "        try:\n",
    "            float(new_weight)\n",
    "        except:\n",
    "            raise TypeError\n",
    "        self.df.loc[face_val, 'Weight'] = new_weight\n",
    "\n",
    "    def roll(self, rolls = 1):\n",
    "        sample = self.df.sample(n=rolls, replace=True, weights='Weight').index.tolist()\n",
    "        return sample\n",
    "        \n",
    "    def state(self):\n",
    "        return self.df.copy()\n",
    "\n",
    "class Game:\n",
    "    \n",
    "    def __init__(self, sim_faces):\n",
    "        self.sim_faces = sim_faces\n",
    "            \n",
    "    def play(self, num_rolls):\n",
    "        outcomes = {i: die.roll(num_rolls) for i, die in enumerate(self.sim_faces)}\n",
    "        self.game_df = pd.DataFrame(outcomes)\n",
    "        self.game_df.index.name = \"Roll Number\"\n",
    "        \n",
    "    def show(self, form = 'wide'):\n",
    "        if form != 'wide' and form != 'narrow':\n",
    "            raise ValueError\n",
    "        if form == 'wide':\n",
    "            return self.game_df.copy()\n",
    "        elif form == 'narrow':\n",
    "            self.narrow_df = self.game_df.melt(\n",
    "                var_name = 'Die Number',\n",
    "                value_name = 'Value',\n",
    "                ignore_index = False)\n",
    "            self.narrow_df.set_index(['Die Number'], append=True, inplace=True)\n",
    "            return self.narrow_df\n",
    "        else:\n",
    "            raise ValueError\n",
    "\n",
    "class Analyzer:\n",
    "    \n",
    "    def __init__(self, game_object):\n",
    "        if not isinstance(game_object, Game):\n",
    "            raise ValueError\n",
    "        self.game_object = game_object\n",
    "        self.roll_result = game_object.show()\n",
    "\n",
    "    def jackpot(self):\n",
    "        jackpots = self.roll_result.apply(lambda row: row.nunique() == 1, axis=1).sum()\n",
    "        return int(jackpots)\n",
    "\n",
    "    def face_counts(self):\n",
    "        counts = self.roll_result.apply(lambda row: row.value_counts(), axis=1)\n",
    "        counts.fillna(0, inplace=True)\n",
    "        return counts\n",
    "        \n",
    "    def combos(self):\n",
    "        cols = self.roll_result.columns.difference(['id']).tolist()\n",
    "        self.df = self.roll_result.groupby(cols, sort=True).size().reset_index(name='Counts')\n",
    "        self.df=self.df.set_index(self.df.columns.difference(['Counts'],sort=True).tolist())\n",
    "        return self.df\n",
    "        \n",
    "    def permutations(self):\n",
    "        self.tups = []\n",
    "        self.tup_list = []\n",
    "        for index, row in self.roll_result.iterrows():\n",
    "            self.tups.append(tuple(row))\n",
    "        counts = Counter(self.tups)\n",
    "        self.df = pd.DataFrame(counts.items(), columns=['Permutation', 'Count'])\n",
    "        tup_len = len(self.tups[0])\n",
    "        for i in range(0,tup_len):\n",
    "            self.tup_list.append(i)\n",
    "        self.df[self.tup_list] = pd.DataFrame(self.df['Permutation'].tolist(), index=self.df.index)\n",
    "        self.df.drop('Permutation', axis=1, inplace=True)\n",
    "        self.df=self.df.set_index(self.df.columns.difference(['Count'],sort=False).tolist())\n",
    "        return self.df\n",
    "```"
   ]
  },
  {
   "cell_type": "markdown",
   "id": "6377727a-8f0a-491e-9f1c-d9dc225edd35",
   "metadata": {},
   "source": [
    "## Unitest Module (2)\n",
    "\n",
    "Paste a copy of your test module below.\n",
    "\n",
    "NOTE: Paste as text, not as code. Use triple backticks to wrap your code blocks.\n",
    "\n",
    "- All methods have at least one test method (1).\n",
    "- Each method employs one of Unittest's Assert methods (1)."
   ]
  },
  {
   "cell_type": "code",
   "execution_count": 2,
   "id": "14b878d8-258b-4cf2-ad88-b8ee90d43977",
   "metadata": {},
   "outputs": [],
   "source": [
    "# A code block with your test code."
   ]
  },
  {
   "cell_type": "markdown",
   "id": "3e058d03-29bc-408f-b36d-0605b4f4b8c0",
   "metadata": {
    "tags": []
   },
   "source": [
    "## Unittest Results (3)\n",
    "\n",
    "Put a copy of the results of running your tests from the command line here.\n",
    "\n",
    "Again, paste as text using triple backticks.\n",
    "\n",
    "- All 12 specified methods return OK (3; .25 each)."
   ]
  },
  {
   "cell_type": "raw",
   "id": "54691fd0-836c-43c7-adc9-4a09d8aa9ab2",
   "metadata": {
    "tags": []
   },
   "source": [
    "# A text block with the output of a successful test."
   ]
  },
  {
   "cell_type": "markdown",
   "id": "d9ffe8c5-eb2f-4ad1-af76-a46550e4c7ac",
   "metadata": {},
   "source": [
    "## Import (1)\n",
    "\n",
    "Import your module here. This import should refer to the code in your package directory.\n",
    "\n",
    "- Module successuflly imported (1)."
   ]
  },
  {
   "cell_type": "code",
   "execution_count": 6,
   "id": "a05dffb3-e6d6-4f78-9df4-5abd0cf74ca9",
   "metadata": {
    "tags": []
   },
   "outputs": [],
   "source": [
    "# e.g. import montecarlo.montecarlo "
   ]
  },
  {
   "cell_type": "markdown",
   "id": "f30c4842-65b1-4556-98b6-3fe1a07e1371",
   "metadata": {},
   "source": [
    "## Help Docs (4)\n",
    "\n",
    "Show your docstring documentation by applying `help()` to your imported module.\n",
    "\n",
    "- All methods have a docstring (3; .25 each).\n",
    "- All classes have a docstring (1; .33 each)."
   ]
  },
  {
   "cell_type": "code",
   "execution_count": 4,
   "id": "bf4fbf1f-9885-471c-a0a6-e9ca90e160de",
   "metadata": {
    "tags": []
   },
   "outputs": [],
   "source": [
    "# help(montecarlo)"
   ]
  },
  {
   "cell_type": "markdown",
   "id": "a9defa84-b395-4966-bd1c-5c6c2bb7ed68",
   "metadata": {},
   "source": [
    "## `README.md` File (3)\n",
    "\n",
    "Provide link to the README.md file of your project's repo.\n",
    "\n",
    "- Metadata section or info present (1).\n",
    "- Synopsis section showing how each class is called (1). (All must be included.)\n",
    "- API section listing all classes and methods (1). (All must be included.)"
   ]
  },
  {
   "cell_type": "markdown",
   "id": "ee090b33-d593-48a0-bf35-e739cea0942c",
   "metadata": {},
   "source": [
    "URL:"
   ]
  },
  {
   "cell_type": "markdown",
   "id": "108604c8-8827-42ef-ab59-6b25428fc0ca",
   "metadata": {},
   "source": [
    "## Successful installation (2)\n",
    "\n",
    "Put a screenshot or paste a copy of a terminal session where you successfully install your module with pip.\n",
    "\n",
    "If pasting text, use a preformatted text block to show the results.\n",
    "\n",
    "- Installed with `pip` (1).\n",
    "- Successfully installed message appears (1)."
   ]
  },
  {
   "cell_type": "raw",
   "id": "1278db6a-aa53-4e5c-a749-93a87ab239e0",
   "metadata": {},
   "source": [
    "# Pasted code"
   ]
  },
  {
   "cell_type": "markdown",
   "id": "7c44695d-d1b3-4edf-9f94-e64d7446f199",
   "metadata": {},
   "source": [
    "# Scenarios\n",
    "\n",
    "Use code blocks to perform the tasks for each scenario.\n",
    "\n",
    "Be sure the outputs are visible before submitting."
   ]
  },
  {
   "cell_type": "markdown",
   "id": "e2479eae-6fc9-44cd-b8d7-9b22cb501f2a",
   "metadata": {
    "tags": []
   },
   "source": [
    "## Scenario 1: A 2-headed Coin (9)\n",
    "\n",
    "Task 1. Create a fair coin (with faces $H$ and $T$) and one unfair coin in which one of the faces has a weight of $5$ and the others $1$.\n",
    "\n",
    "- Fair coin created (1).\n",
    "- Unfair coin created with weight as specified (1)."
   ]
  },
  {
   "cell_type": "code",
   "execution_count": null,
   "id": "55ce498e-c75f-4425-9e3e-b635bd6cd9e1",
   "metadata": {},
   "outputs": [],
   "source": [
    "fair_coin = Die(np.array([\"H\", \"T\"]))\n",
    "unfair_coin = Die(np.array([\"H\", \"T\"]))\n",
    "unfair_coin.change_weight('H', 5)\n",
    "print(fair_coin.state())\n",
    "print(unfair_coin.state())"
   ]
  },
  {
   "cell_type": "markdown",
   "id": "02b272ab-99da-4b6e-ac2a-555b73e09c07",
   "metadata": {},
   "source": [
    "Task 2. Play a game of $1000$ flips with two fair dice.\n",
    "\n",
    "- Play method called correclty and without error (1)."
   ]
  },
  {
   "cell_type": "code",
   "execution_count": null,
   "id": "65c92601-d32d-4326-b215-74953aee27f2",
   "metadata": {},
   "outputs": [],
   "source": [
    "fair_coin1 = Die(np.array([\"H\", \"T\"]))\n",
    "fair_coin2 = Die(np.array([\"H\", \"T\"]))\n",
    "\n",
    "obj = Game([fair_coin1,fair_coin2])\n",
    "obj.play(1000)"
   ]
  },
  {
   "cell_type": "markdown",
   "id": "7d9c3dc8-22c1-4cae-81fb-d68d774a05d1",
   "metadata": {},
   "source": [
    "Task 3. Play another game (using a new Game object) of $1000$ flips, this time using two unfair dice and one fair die. For the second unfair die, you can use the same die object twice in the list of dice you pass to the Game object.\n",
    "\n",
    "- New game object created (1).\n",
    "- Play method called correclty and without error (1)."
   ]
  },
  {
   "cell_type": "code",
   "execution_count": null,
   "id": "d4098bed-1eb2-4084-8d5e-9fda07c3be43",
   "metadata": {},
   "outputs": [],
   "source": [
    "fair_coin1 = Die(np.array([\"H\", \"T\"]))\n",
    "unfair_coin = Die(np.array([\"H\", \"T\"]))\n",
    "unfair_coin.change_weight('H', 5)\n",
    "\n",
    "new_obj = Game([fair_coin1,unfair_coin, unfair_coin])\n",
    "new_obj.play(1000)"
   ]
  },
  {
   "cell_type": "markdown",
   "id": "f690ebfc-fe71-4eb2-976d-7ac80ca6c23f",
   "metadata": {},
   "source": [
    "Task 4. For each game, use an Analyzer object to determine the raw frequency of jackpots — i.e. getting either all $H$s or all $T$s.\n",
    "\n",
    "- Analyzer objecs instantiated for both games (1).\n",
    "- Raw frequencies reported for both (1)."
   ]
  },
  {
   "cell_type": "code",
   "execution_count": null,
   "id": "b26b8b7e-3be7-4476-a9a4-37d97536729e",
   "metadata": {},
   "outputs": [],
   "source": [
    "game1 = Analyzer(obj)\n",
    "game2 = Analyzer(new_obj)\n",
    "\n",
    "game1_jackpots = game1.jackpot()\n",
    "\n",
    "game2_jackpots = game2.jackpot()\n",
    "\n",
    "print(game1_jackpots)\n",
    "print(game2_jackpots)"
   ]
  },
  {
   "cell_type": "markdown",
   "id": "b73d233c-445e-40cd-8858-0c5e1f097105",
   "metadata": {},
   "source": [
    "Task 5. For each analyzer, compute relative frequency as the number of jackpots over the total number of rolls.\n",
    "\n",
    "- Both relative frequencies computed (1)."
   ]
  },
  {
   "cell_type": "code",
   "execution_count": null,
   "id": "9a96b31b-1b9d-496e-be3e-4bf83c45ec3a",
   "metadata": {},
   "outputs": [],
   "source": [
    "game1_freq = game1_jackpots/1000\n",
    "game2_freq = game2_jackpots/1000\n",
    "\n",
    "print(game1_freq)\n",
    "print(game2_freq)"
   ]
  },
  {
   "cell_type": "markdown",
   "id": "a6e1e734-7f5c-4721-8ba4-2f3a424cf984",
   "metadata": {},
   "source": [
    "Task 6. Show your results, comparing the two relative frequencies, in a simple bar chart.\n",
    "\n",
    "- Bar chart plotted and correct (1)."
   ]
  },
  {
   "cell_type": "code",
   "execution_count": null,
   "id": "473fa67c-aa53-4aa3-a0b7-e8772b3f6ed3",
   "metadata": {},
   "outputs": [],
   "source": [
    "import matplotlib.pyplot as plt\n",
    "\n",
    "Games = ['Fair', 'Unfair']\n",
    "Proportions = [game1_freq, game2_freq]\n",
    "plt.bar(Games, Proportions)\n",
    "plt.xlabel('Game')\n",
    "plt.ylabel('Proportion')\n",
    "plt.title('Proportion of Jackpots for Fair and Unfair Games')"
   ]
  },
  {
   "cell_type": "markdown",
   "id": "725cfa5b-e4b7-47c9-86aa-8d9e1fe6c8c7",
   "metadata": {},
   "source": [
    "## Scenario 2: A 6-sided Die (9)\n",
    "\n",
    "Task 1. Create three dice, each with six sides having the faces 1 through 6.\n",
    "\n",
    "- Three die objects created (1)."
   ]
  },
  {
   "cell_type": "code",
   "execution_count": null,
   "id": "6a8bc611-325a-4e05-88d5-980e0a2cf7c5",
   "metadata": {},
   "outputs": [],
   "source": [
    "die1 = Die(np.array([1,2,3,4,5,6]))\n",
    "die2 = Die(np.array([1,2,3,4,5,6]))\n",
    "die3 = Die(np.array([1,2,3,4,5,6]))"
   ]
  },
  {
   "cell_type": "markdown",
   "id": "2ed3ad26-fbe9-43bd-9ad7-f683a4191d12",
   "metadata": {},
   "source": [
    "Task 2. Convert one of the dice to an unfair one by weighting the face $6$ five times more than the other weights (i.e. it has weight of 5 and the others a weight of 1 each).\n",
    "\n",
    "- Unfair die created with proper call to weight change method (1)."
   ]
  },
  {
   "cell_type": "code",
   "execution_count": null,
   "id": "e33dd18f-7f90-456d-a680-61c08a328e21",
   "metadata": {},
   "outputs": [],
   "source": [
    "die1.change_weight(6, 5)\n",
    "die1.state()"
   ]
  },
  {
   "cell_type": "markdown",
   "id": "7f6c062a-4c5b-45b9-96b8-76a0354c7e47",
   "metadata": {},
   "source": [
    "Task 3. Convert another of the dice to be unfair by weighting the face $1$ five times more than the others.\n",
    "\n",
    "- Unfair die created with proper call to weight change method (1)."
   ]
  },
  {
   "cell_type": "code",
   "execution_count": null,
   "id": "01133a4e-6b06-4246-8d90-8e6d6995be51",
   "metadata": {},
   "outputs": [],
   "source": [
    "die2.change_weight(1, 5)\n",
    "die2.state()"
   ]
  },
  {
   "cell_type": "markdown",
   "id": "f0ed31cb-0a3c-4eb2-b85e-6ed6b2eb6e58",
   "metadata": {},
   "source": [
    "Task 4. Play a game of $10000$ rolls with $5$ fair dice.\n",
    "\n",
    "- Game class properly instantiated (1). \n",
    "- Play method called properly (1)."
   ]
  },
  {
   "cell_type": "code",
   "execution_count": null,
   "id": "e92395a4-9ed8-4cb0-8c85-38768a784ffc",
   "metadata": {},
   "outputs": [],
   "source": [
    "fair_obj = Game([die3,die3,die3,die3,die3])\n",
    "fair_obj.play(10000)"
   ]
  },
  {
   "cell_type": "markdown",
   "id": "7814b402-46a4-40e5-8141-20e05c3e646b",
   "metadata": {},
   "source": [
    "Task 5. Play another game of $10000$ rolls, this time with $2$ unfair dice, one as defined in steps #2 and #3 respectively, and $3$ fair dice.\n",
    "\n",
    "- Game class properly instantiated (1). \n",
    "- Play method called properly (1)."
   ]
  },
  {
   "cell_type": "code",
   "execution_count": null,
   "id": "7cd58fba-b2a5-4d5d-bc6d-2a7a68d18c4f",
   "metadata": {},
   "outputs": [],
   "source": [
    "unfair_obj = Game([die1,die2,die3,die3,die3])\n",
    "unfair_obj.play(10000)"
   ]
  },
  {
   "cell_type": "markdown",
   "id": "7b6cd372-2bb8-4df8-ade1-8f48bc300955",
   "metadata": {},
   "source": [
    "Task 6. For each game, use an Analyzer object to determine the relative frequency of jackpots and show your results, comparing the two relative frequencies, in a simple bar chart.\n",
    "\n",
    "- Jackpot methods called (1).\n",
    "- Graph produced (1)."
   ]
  },
  {
   "cell_type": "code",
   "execution_count": null,
   "id": "bbdcf695-8937-406e-9b53-aa0b9ee3c59a",
   "metadata": {},
   "outputs": [],
   "source": [
    "game1 = Analyzer(fair_obj)\n",
    "game2 = Analyzer(unfair_obj)\n",
    "\n",
    "game1_jackpots = game1.jackpot()\n",
    "\n",
    "game2_jackpots = game2.jackpot()\n",
    "\n",
    "game1_freq = game1_jackpots/10000\n",
    "game2_freq = game2_jackpots/10000\n",
    "\n",
    "print(game1_freq)\n",
    "print(game2_freq)\n",
    "\n",
    "Games = ['Fair', 'Unfair']\n",
    "Proportions = [game1_freq, game2_freq]\n",
    "plt.bar(Games, Proportions)\n",
    "plt.xlabel('Game')\n",
    "plt.ylabel('Proportion')\n",
    "plt.title('Proportion of Jackpots for Fair and Unfair Games')"
   ]
  },
  {
   "cell_type": "markdown",
   "id": "9f04e9be-8fcf-4ea4-a391-6614608285f8",
   "metadata": {},
   "source": [
    "## Scenario 3: Letters of the Alphabet (7)\n",
    "\n",
    "Task 1. Create a \"die\" of letters from $A$ to $Z$ with weights based on their frequency of usage as found in the data file `english_letters.txt`. Use the frequencies (i.e. raw counts) as weights.\n",
    "\n",
    "- Die correctly instantiated with source file data (1).\n",
    "- Weights properly applied using weight setting method (1)."
   ]
  },
  {
   "cell_type": "code",
   "execution_count": null,
   "id": "b0ceb771-3cdf-4d8f-8c2c-020806bbb909",
   "metadata": {},
   "outputs": [],
   "source": [
    "letters = pd.read_csv('english_letters.txt', header = None, sep = ' ')\n",
    "letter_array = np.array(letters[0])\n",
    "initial_letter = Die(letter_array)\n",
    "\n",
    "for letter, weight in zip(letters[0], letters[1]):\n",
    "    initial_letter.change_weight(letter, weight)\n",
    "\n",
    "initial_letter.state()"
   ]
  },
  {
   "cell_type": "markdown",
   "id": "88e2e14a-6223-470a-a2c8-bca1120d7a5b",
   "metadata": {},
   "source": [
    "Task 2. Play a game involving $4$ of these dice with $1000$ rolls.\n",
    "\n",
    "- Game play method properly called (1)."
   ]
  },
  {
   "cell_type": "code",
   "execution_count": null,
   "id": "2ae087cc-936d-4f1e-bddb-a7c179d139e0",
   "metadata": {},
   "outputs": [],
   "source": [
    "new_game = Game([initial_letter, initial_letter, initial_letter, initial_letter])\n",
    "new_game.play(1000)"
   ]
  },
  {
   "cell_type": "markdown",
   "id": "3b9ff800-bf1f-4f66-9d7f-ff57a648e9f0",
   "metadata": {},
   "source": [
    "Task 3. Determine how many permutations in your results are actual English words, based on the vocabulary found in `scrabble_words.txt`.\n",
    "\n",
    "- Use permutation method (1).\n",
    "- Get count as difference between permutations and vocabulary (1)."
   ]
  },
  {
   "cell_type": "code",
   "execution_count": null,
   "id": "ed1c7fa0-cfa3-4cf4-9fd0-9f84b86b0f64",
   "metadata": {},
   "outputs": [],
   "source": [
    "words = pd.read_csv('scrabble_words.txt', header = None)\n",
    "analyze_game = Analyzer(new_game)\n",
    "analyze_game.permutations()\n",
    "\n",
    "df = analyze_game.permutations()\n",
    "df.index = df.index.map(lambda x: ''.join(x))\n",
    "\n",
    "count = 0\n",
    "\n",
    "for index, row in df.iterrows():\n",
    "    if index in words[0].values:\n",
    "        count += row['Count']\n",
    "\n",
    "permutations = len(df)\n",
    "actual_english = count\n",
    "\n",
    "print(actual_english)"
   ]
  },
  {
   "cell_type": "markdown",
   "id": "fcf068cf-381a-4b3e-ac3a-0510eb4dbdb0",
   "metadata": {},
   "source": [
    "Task 4. Repeat steps #2 and #3, this time with $5$ dice. How many actual words does this produce? Which produces more?\n",
    "\n",
    "- Successfully repreats steps (1).\n",
    "- Identifies parameter with most found words (1)."
   ]
  },
  {
   "cell_type": "code",
   "execution_count": null,
   "id": "de380a19-e432-41f2-b548-c69b9337d280",
   "metadata": {},
   "outputs": [],
   "source": [
    "new_game2 = Game([initial_letter, initial_letter, initial_letter, initial_letter, initial_letter])\n",
    "new_game2.play(1000)\n",
    "\n",
    "words = pd.read_csv('scrabble_words.txt', header = None)\n",
    "analyze_game2 = Analyzer(new_game2)\n",
    "analyze_game2.permutations()\n",
    "\n",
    "df2 = analyze_game2.permutations()\n",
    "df2.index = df2.index.map(lambda x: ''.join(x))\n",
    "\n",
    "count2 = 0\n",
    "\n",
    "for index, row in df2.iterrows():\n",
    "    if index in words[0].values:\n",
    "        count2 += row['Count']\n",
    "\n",
    "permutations2 = len(df2)\n",
    "actual_english2 = count2\n",
    "\n",
    "print(actual_english2)\n",
    "\n",
    "if actual_english > actual_english2:\n",
    "    print(\"Parameter with 4 dice produces more actual words.\")\n",
    "else:\n",
    "    print(\"Parameter with 5 dice produces more actual words.\")"
   ]
  },
  {
   "cell_type": "code",
   "execution_count": null,
   "id": "d8749165-e25f-48e8-b87c-0bbb25aeb028",
   "metadata": {},
   "outputs": [],
   "source": []
  }
 ],
 "metadata": {
  "kernelspec": {
   "display_name": "Python 3 (ipykernel)",
   "language": "python",
   "name": "python3"
  },
  "language_info": {
   "codemirror_mode": {
    "name": "ipython",
    "version": 3
   },
   "file_extension": ".py",
   "mimetype": "text/x-python",
   "name": "python",
   "nbconvert_exporter": "python",
   "pygments_lexer": "ipython3",
   "version": "3.12.5"
  },
  "toc-autonumbering": true,
  "widgets": {
   "application/vnd.jupyter.widget-state+json": {
    "state": {},
    "version_major": 2,
    "version_minor": 0
   }
  }
 },
 "nbformat": 4,
 "nbformat_minor": 5
}
